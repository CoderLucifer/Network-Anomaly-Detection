{
 "cells": [
  {
   "cell_type": "code",
   "execution_count": 1,
   "source": [
    "import hdf5storage\r\n",
    "import numpy as np\r\n",
    "from sklearn.ensemble import IsolationForest\r\n",
    "import matplotlib.pyplot as plt\r\n",
    "import pandas as pd\r\n",
    "from sklearn.model_selection import train_test_split\r\n",
    "from sklearn.metrics import confusion_matrix,f1_score,roc_auc_score,classification_report,roc_curve,auc"
   ],
   "outputs": [],
   "metadata": {}
  },
  {
   "cell_type": "code",
   "execution_count": 2,
   "source": [
    "file='network_data.mat'\r\n",
    "mat = hdf5storage.loadmat(file)\r\n",
    "X=pd.DataFrame(mat['X'])\r\n",
    "y=pd.DataFrame(mat['y'])"
   ],
   "outputs": [],
   "metadata": {}
  },
  {
   "cell_type": "code",
   "execution_count": null,
   "source": [
    "X[:5]"
   ],
   "outputs": [],
   "metadata": {}
  },
  {
   "cell_type": "code",
   "execution_count": null,
   "source": [
    "y[:5]"
   ],
   "outputs": [],
   "metadata": {}
  },
  {
   "cell_type": "code",
   "execution_count": 5,
   "source": [
    "def separate(X,y):\r\n",
    "    data=pd.concat([X,y],axis=1)\r\n",
    "    data.columns=[0,1,2,3]\r\n",
    "    normal=data.loc[data[3]==0]\r\n",
    "    abnormal=data.loc[data[3]==1]\r\n",
    "    normal.drop([3],axis=1,inplace=True)\r\n",
    "    abnormal.drop([3],axis=1,inplace=True)\r\n",
    "    return normal,abnormal"
   ],
   "outputs": [],
   "metadata": {}
  },
  {
   "cell_type": "code",
   "execution_count": 6,
   "source": [
    "def prepare_sets(X,y):\r\n",
    "    X=np.array(X)\r\n",
    "    y=np.array(y)\r\n",
    "    X,X_test,y,y_test=train_test_split(X,y,test_size=0.2)\r\n",
    "    X_train,X_dev,y_train,y_dev=train_test_split(X,y,test_size=0.25)\r\n",
    "    return X_train,y_train,X_dev,y_dev,X_test,y_test"
   ],
   "outputs": [],
   "metadata": {}
  },
  {
   "cell_type": "code",
   "execution_count": 7,
   "source": [
    "def model(X):\r\n",
    "    ifor = IsolationForest(n_estimators=100, max_samples=256,contamination=0.0235)\r\n",
    "    ifor.fit(X)\r\n",
    "    return ifor"
   ],
   "outputs": [],
   "metadata": {}
  },
  {
   "cell_type": "code",
   "execution_count": 8,
   "source": [
    "def convert(y):\r\n",
    "    for i in range(y.shape[0]):\r\n",
    "        if y[i]==-1:\r\n",
    "            y[i]=1;\r\n",
    "        else:\r\n",
    "            y[i]=0\r\n",
    "    return y"
   ],
   "outputs": [],
   "metadata": {}
  },
  {
   "cell_type": "code",
   "execution_count": 9,
   "source": [
    "def model_evaluate(ifor,X,y):\r\n",
    "    y_pred=ifor.predict(X)\r\n",
    "    y_pred=convert(y_pred)\r\n",
    "    s= 0.5 - ifor.decision_function(X)\r\n",
    "    z=roc_auc_score(y,s)\r\n",
    "    print('Report= ',classification_report(y,y_pred))\r\n",
    "    print('AUCROC= ',z)\r\n",
    "    print('F1= ',f1_score(y,y_pred))\r\n",
    "    print('Confusion matrix= ',confusion_matrix(y,y_pred))"
   ],
   "outputs": [],
   "metadata": {}
  },
  {
   "cell_type": "code",
   "execution_count": 10,
   "source": [
    "def roc_plot(model,X,y):\r\n",
    "    preds= 0.5 - model.decision_function(X)\r\n",
    "    fpr, tpr, threshold = roc_curve(y, preds)\r\n",
    "    roc_auc = auc(fpr, tpr)\r\n",
    "\r\n",
    "    plt.title('Receiver Operating Characteristic')\r\n",
    "    plt.plot(fpr, tpr, 'b', label = 'AUC = %0.2f' % roc_auc)\r\n",
    "    plt.legend(loc = 'lower right')\r\n",
    "    plt.plot([0, 1], [0, 1],'r--')\r\n",
    "    plt.xlim([0, 1])\r\n",
    "    plt.ylim([0, 1])\r\n",
    "    plt.ylabel('True Positive Rate')\r\n",
    "    plt.xlabel('False Positive Rate')\r\n",
    "    plt.show()"
   ],
   "outputs": [],
   "metadata": {}
  },
  {
   "cell_type": "code",
   "execution_count": null,
   "source": [
    "normal,abnormal=separate(X,y)\r\n",
    "X_train,y_train,X_dev,y_dev,X_test,y_test=prepare_sets(X,y)"
   ],
   "outputs": [],
   "metadata": {}
  },
  {
   "cell_type": "code",
   "execution_count": null,
   "source": [
    "ifor=model(X_train)"
   ],
   "outputs": [],
   "metadata": {}
  },
  {
   "cell_type": "code",
   "execution_count": 19,
   "source": [
    "scores_n = 0.5 - ifor.decision_function(normal)"
   ],
   "outputs": [],
   "metadata": {}
  },
  {
   "cell_type": "code",
   "execution_count": 20,
   "source": [
    "scores_ab= 0.5 - ifor.decision_function(abnormal)"
   ],
   "outputs": [],
   "metadata": {}
  },
  {
   "cell_type": "code",
   "execution_count": null,
   "source": [
    "for i in range(1500):\r\n",
    "        plt.scatter(scores_n[i],0,color='blue',marker='*')\r\n",
    "for i in range(1500):\r\n",
    "    plt.scatter(scores_ab[i],1,color='red',marker='*')"
   ],
   "outputs": [],
   "metadata": {}
  },
  {
   "cell_type": "code",
   "execution_count": null,
   "source": [
    "print('TRAIN')\r\n",
    "model_evaluate(ifor,X_train,y_train)"
   ],
   "outputs": [],
   "metadata": {}
  },
  {
   "cell_type": "code",
   "execution_count": null,
   "source": [
    "print('DEV')\r\n",
    "model_evaluate(ifor,X_dev,y_dev)"
   ],
   "outputs": [],
   "metadata": {}
  },
  {
   "cell_type": "code",
   "execution_count": null,
   "source": [
    "print('TEST')\r\n",
    "model_evaluate(ifor,X_test,y_test)\r\n"
   ],
   "outputs": [],
   "metadata": {}
  }
 ],
 "metadata": {
  "kernelspec": {
   "display_name": "Python 3",
   "language": "python",
   "name": "python3"
  },
  "language_info": {
   "codemirror_mode": {
    "name": "ipython",
    "version": 3
   },
   "file_extension": ".py",
   "mimetype": "text/x-python",
   "name": "python",
   "nbconvert_exporter": "python",
   "pygments_lexer": "ipython3",
   "version": "3.6.8"
  }
 },
 "nbformat": 4,
 "nbformat_minor": 2
}